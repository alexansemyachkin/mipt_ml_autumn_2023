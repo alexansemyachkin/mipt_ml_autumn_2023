{
 "cells": [
  {
   "cell_type": "markdown",
   "metadata": {},
   "source": [
    "## Lab 2"
   ]
  },
  {
   "cell_type": "markdown",
   "metadata": {},
   "source": [
    "### Part 3. Poetry generation\n",
    "\n",
    "Let's try to generate some poetry using RNNs. \n",
    "\n",
    "You have several choices here: \n",
    "\n",
    "* The Shakespeare sonnets, file `sonnets.txt` available in the notebook directory.\n",
    "\n",
    "* Роман в стихах \"Евгений Онегин\" Александра Сергеевича Пушкина. В предобработанном виде доступен по [ссылке](https://github.com/attatrol/data_sources/blob/master/onegin.txt).\n",
    "\n",
    "* Some other text source, if it will be approved by the course staff.\n",
    "\n",
    "Text generation can be designed in several steps:\n",
    "    \n",
    "1. Data loading.\n",
    "2. Dictionary generation.\n",
    "3. Data preprocessing.\n",
    "4. Model (neural network) training.\n",
    "5. Text generation (model evaluation).\n"
   ]
  },
  {
   "cell_type": "code",
   "execution_count": 166,
   "metadata": {
    "execution": {
     "iopub.execute_input": "2023-11-30T20:03:29.048068Z",
     "iopub.status.busy": "2023-11-30T20:03:29.047518Z",
     "iopub.status.idle": "2023-11-30T20:03:29.054631Z",
     "shell.execute_reply": "2023-11-30T20:03:29.053555Z",
     "shell.execute_reply.started": "2023-11-30T20:03:29.048030Z"
    }
   },
   "outputs": [],
   "source": [
    "import string\n",
    "import os\n",
    "\n",
    "import numpy as np\n",
    "\n",
    "import torch\n",
    "import torch.nn as nn\n",
    "import torch.nn.functional as F\n",
    "\n",
    "import matplotlib.pyplot as plt"
   ]
  },
  {
   "cell_type": "markdown",
   "metadata": {},
   "source": [
    "### Data loading: Shakespeare"
   ]
  },
  {
   "cell_type": "markdown",
   "metadata": {},
   "source": [
    "Shakespeare sonnets are awailable at this [link](http://www.gutenberg.org/ebooks/1041?msg=welcome_stranger). In addition, they are stored in the same directory as this notebook (`sonnetes.txt`). Simple preprocessing is already done for you in the next cell: all technical info is dropped."
   ]
  },
  {
   "cell_type": "code",
   "execution_count": 167,
   "metadata": {
    "execution": {
     "iopub.execute_input": "2023-11-30T20:03:29.057192Z",
     "iopub.status.busy": "2023-11-30T20:03:29.056916Z",
     "iopub.status.idle": "2023-11-30T20:03:29.064408Z",
     "shell.execute_reply": "2023-11-30T20:03:29.063807Z",
     "shell.execute_reply.started": "2023-11-30T20:03:29.057167Z"
    }
   },
   "outputs": [],
   "source": [
    "if not os.path.exists('sonnets.txt'):\n",
    "    !wget https://raw.githubusercontent.com/girafe-ai/ml-course/22f_basic/homeworks_basic/lab02_deep_learning/sonnets.txt\n",
    "\n",
    "with open('sonnets.txt', 'r') as iofile:\n",
    "    text = iofile.readlines()\n",
    "    \n",
    "TEXT_START = 45\n",
    "TEXT_END = -368\n",
    "text = text[TEXT_START : TEXT_END]\n",
    "assert len(text) == 2616"
   ]
  },
  {
   "cell_type": "markdown",
   "metadata": {},
   "source": [
    "In opposite to the in-class practice, this time we want to predict complex text. Let's reduce the complexity of the task and lowercase all the symbols.\n",
    "\n",
    "Now variable `text` is a list of strings. Join all the strings into one and lowercase it."
   ]
  },
  {
   "cell_type": "code",
   "execution_count": 168,
   "metadata": {
    "execution": {
     "iopub.execute_input": "2023-11-30T20:03:29.065553Z",
     "iopub.status.busy": "2023-11-30T20:03:29.065320Z",
     "iopub.status.idle": "2023-11-30T20:03:29.088930Z",
     "shell.execute_reply": "2023-11-30T20:03:29.088609Z",
     "shell.execute_reply.started": "2023-11-30T20:03:29.065534Z"
    }
   },
   "outputs": [
    {
     "name": "stdout",
     "output_type": "stream",
     "text": [
      "OK!\n"
     ]
    }
   ],
   "source": [
    "# Join all the strings into one and lowercase it\n",
    "# Put result into variable text.\n",
    "\n",
    "# Your great code here\n",
    "text = ''.join(text).lower()\n",
    "\n",
    "assert len(text) == 100225, 'Are you sure you have concatenated all the strings?'\n",
    "assert not any([x in set(text) for x in string.ascii_uppercase]), 'Uppercase letters are present'\n",
    "print('OK!')"
   ]
  },
  {
   "cell_type": "markdown",
   "metadata": {},
   "source": [
    "### Data loading: \"Евгений Онегин\"\n"
   ]
  },
  {
   "cell_type": "code",
   "execution_count": 169,
   "metadata": {
    "execution": {
     "iopub.execute_input": "2023-11-30T20:03:29.089381Z",
     "iopub.status.busy": "2023-11-30T20:03:29.089302Z",
     "iopub.status.idle": "2023-11-30T20:03:29.091103Z",
     "shell.execute_reply": "2023-11-30T20:03:29.090827Z",
     "shell.execute_reply.started": "2023-11-30T20:03:29.089373Z"
    }
   },
   "outputs": [],
   "source": [
    "# !wget https://raw.githubusercontent.com/attatrol/data_sources/master/onegin.txt\n",
    "    \n",
    "# with open('onegin.txt', 'r') as iofile:\n",
    "#     text = iofile.readlines()\n",
    "    \n",
    "# text = [x.replace('\\t\\t', '') for x in text]"
   ]
  },
  {
   "cell_type": "markdown",
   "metadata": {},
   "source": [
    "In opposite to the in-class practice, this time we want to predict complex text. Let's reduce the complexity of the task and lowercase all the symbols.\n",
    "\n",
    "Now variable `text` is a list of strings. Join all the strings into one and lowercase it."
   ]
  },
  {
   "cell_type": "code",
   "execution_count": 170,
   "metadata": {
    "execution": {
     "iopub.execute_input": "2023-11-30T20:03:29.092381Z",
     "iopub.status.busy": "2023-11-30T20:03:29.092297Z",
     "iopub.status.idle": "2023-11-30T20:03:29.096960Z",
     "shell.execute_reply": "2023-11-30T20:03:29.095644Z",
     "shell.execute_reply.started": "2023-11-30T20:03:29.092374Z"
    }
   },
   "outputs": [],
   "source": [
    "# Join all the strings into one and lowercase it\n",
    "# Put result into variable text.\n",
    "\n",
    "# Your great code here\n",
    "text = ''.join(text).lower()"
   ]
  },
  {
   "cell_type": "markdown",
   "metadata": {},
   "source": [
    "Put all the characters, that you've seen in the text, into variable `tokens`."
   ]
  },
  {
   "cell_type": "code",
   "execution_count": 171,
   "metadata": {
    "execution": {
     "iopub.execute_input": "2023-11-30T20:03:29.098450Z",
     "iopub.status.busy": "2023-11-30T20:03:29.097947Z",
     "iopub.status.idle": "2023-11-30T20:03:29.103301Z",
     "shell.execute_reply": "2023-11-30T20:03:29.102557Z",
     "shell.execute_reply.started": "2023-11-30T20:03:29.098428Z"
    }
   },
   "outputs": [
    {
     "name": "stdout",
     "output_type": "stream",
     "text": [
      "num_tokens =  38\n"
     ]
    }
   ],
   "source": [
    "tokens = sorted(set(text))\n",
    "num_tokens = len(tokens)\n",
    "print ('num_tokens = ', num_tokens)"
   ]
  },
  {
   "cell_type": "markdown",
   "metadata": {},
   "source": [
    "Create dictionary `token_to_idx = {<char>: <index>}` and dictionary `idx_to_token = {<index>: <char>}`"
   ]
  },
  {
   "cell_type": "code",
   "execution_count": 172,
   "metadata": {
    "execution": {
     "iopub.execute_input": "2023-11-30T20:03:29.104294Z",
     "iopub.status.busy": "2023-11-30T20:03:29.104193Z",
     "iopub.status.idle": "2023-11-30T20:03:29.107630Z",
     "shell.execute_reply": "2023-11-30T20:03:29.106795Z",
     "shell.execute_reply.started": "2023-11-30T20:03:29.104284Z"
    }
   },
   "outputs": [],
   "source": [
    "# dict <index>:<char>\n",
    "# Your great code here\n",
    "token_to_idx = {token: idx for idx, token in enumerate(tokens)}\n",
    "\n",
    "# dict <char>:<index>\n",
    "# Your great code here\n",
    "idx_to_token = {idx: token for idx, token in enumerate(tokens)}"
   ]
  },
  {
   "cell_type": "code",
   "execution_count": 173,
   "metadata": {
    "execution": {
     "iopub.execute_input": "2023-11-30T20:03:29.108635Z",
     "iopub.status.busy": "2023-11-30T20:03:29.108534Z",
     "iopub.status.idle": "2023-11-30T20:03:29.111812Z",
     "shell.execute_reply": "2023-11-30T20:03:29.111165Z",
     "shell.execute_reply.started": "2023-11-30T20:03:29.108627Z"
    }
   },
   "outputs": [
    {
     "name": "stdout",
     "output_type": "stream",
     "text": [
      "Seems alright!\n"
     ]
    }
   ],
   "source": [
    "assert len(tokens) == len(token_to_idx), \"dictionaries must have same size\"\n",
    "\n",
    "for i in range(num_tokens):\n",
    "    assert token_to_idx[tokens[i]] == i, \"token identifier must be it's position in tokens list\"\n",
    "\n",
    "print(\"Seems alright!\")"
   ]
  },
  {
   "cell_type": "code",
   "execution_count": 174,
   "metadata": {
    "execution": {
     "iopub.execute_input": "2023-11-30T20:03:29.113176Z",
     "iopub.status.busy": "2023-11-30T20:03:29.112931Z",
     "iopub.status.idle": "2023-11-30T20:03:29.117137Z",
     "shell.execute_reply": "2023-11-30T20:03:29.116680Z",
     "shell.execute_reply.started": "2023-11-30T20:03:29.113155Z"
    }
   },
   "outputs": [
    {
     "data": {
      "text/plain": [
       "torch.Size([38, 38])"
      ]
     },
     "execution_count": 174,
     "metadata": {},
     "output_type": "execute_result"
    }
   ],
   "source": [
    "one_hot_encoding = torch.eye(num_tokens).long()\n",
    "\n",
    "one_hot_encoding.shape"
   ]
  },
  {
   "cell_type": "markdown",
   "metadata": {},
   "source": [
    "*Comment: in this task we have only 38 different tokens, so let's use one-hot encoding.*"
   ]
  },
  {
   "cell_type": "markdown",
   "metadata": {},
   "source": [
    "### Building the model"
   ]
  },
  {
   "cell_type": "markdown",
   "metadata": {},
   "source": [
    "Now we want to build and train recurrent neural net which would be able to something similar to Shakespeare's poetry.\n",
    "\n",
    "Let's use vanilla RNN, similar to the one created during the lesson."
   ]
  },
  {
   "cell_type": "code",
   "execution_count": 175,
   "metadata": {
    "execution": {
     "iopub.execute_input": "2023-11-30T20:03:29.117901Z",
     "iopub.status.busy": "2023-11-30T20:03:29.117811Z",
     "iopub.status.idle": "2023-11-30T20:03:29.121516Z",
     "shell.execute_reply": "2023-11-30T20:03:29.121255Z",
     "shell.execute_reply.started": "2023-11-30T20:03:29.117893Z"
    }
   },
   "outputs": [],
   "source": [
    "# Your code here\n",
    "class CharRNNCell(nn.Module):\n",
    "    \"\"\"\n",
    "    Implement the scheme above as torch module\n",
    "    \"\"\"\n",
    "    def __init__(self, num_tokens=len(tokens), embedding_size=18, rnn_num_units=64):\n",
    "        super(self.__class__,self).__init__()\n",
    "        self.num_units = rnn_num_units\n",
    "        \n",
    "        self.embedding = nn.Embedding(num_tokens, embedding_size)\n",
    "        self.rnn_update = nn.Linear(embedding_size + rnn_num_units, rnn_num_units)\n",
    "        self.rnn_to_logits = nn.Linear(rnn_num_units, num_tokens)\n",
    "        \n",
    "    def forward(self, x, h_prev):\n",
    "        \"\"\"\n",
    "        This method computes h_next(x, h_prev) and log P(x_next | h_next)\n",
    "        We'll call it repeatedly to produce the whole sequence.\n",
    "        \n",
    "        :param x: batch of character ids, containing vector of int64\n",
    "        :param h_prev: previous rnn hidden states, containing matrix [batch, rnn_num_units] of float32\n",
    "        \"\"\"\n",
    "        # get vector embedding of x\n",
    "        x_emb = self.embedding(x)\n",
    "        \n",
    "        # compute next hidden state using self.rnn_update\n",
    "        # hint: use torch.cat(..., dim=...) for concatenation\n",
    "        x_and_h = torch.cat([x_emb, h_prev], dim=-1) #YOUR CODE HERE\n",
    "        h_next = self.rnn_update(x_and_h)\n",
    "        \n",
    "        h_next = torch.tanh(h_next) #YOUR CODE HERE\n",
    "        \n",
    "        assert h_next.size() == h_prev.size()\n",
    "        \n",
    "        #compute logits for next character probs\n",
    "        logits = self.rnn_to_logits(h_next) #YOUR CODE\n",
    "        \n",
    "        return h_next, logits\n",
    "    \n",
    "    def initial_state(self, batch_size):\n",
    "        \"\"\" return rnn state before it processes first input (aka h0) \"\"\"\n",
    "        return torch.zeros(batch_size, self.num_units, requires_grad=True)"
   ]
  },
  {
   "cell_type": "code",
   "execution_count": 176,
   "metadata": {
    "execution": {
     "iopub.execute_input": "2023-11-30T20:03:29.122169Z",
     "iopub.status.busy": "2023-11-30T20:03:29.122073Z",
     "iopub.status.idle": "2023-11-30T20:03:29.123768Z",
     "shell.execute_reply": "2023-11-30T20:03:29.123454Z",
     "shell.execute_reply.started": "2023-11-30T20:03:29.122161Z"
    }
   },
   "outputs": [],
   "source": [
    "hyperparams = {\n",
    "    'depth': 11,\n",
    "    'length': 24\n",
    "}"
   ]
  },
  {
   "cell_type": "code",
   "execution_count": 177,
   "metadata": {
    "execution": {
     "iopub.execute_input": "2023-11-30T20:03:29.124188Z",
     "iopub.status.busy": "2023-11-30T20:03:29.124106Z",
     "iopub.status.idle": "2023-11-30T20:03:29.126425Z",
     "shell.execute_reply": "2023-11-30T20:03:29.126199Z",
     "shell.execute_reply.started": "2023-11-30T20:03:29.124180Z"
    }
   },
   "outputs": [],
   "source": [
    "char_rnn = CharRNNCell()"
   ]
  },
  {
   "cell_type": "code",
   "execution_count": 178,
   "metadata": {
    "execution": {
     "iopub.execute_input": "2023-11-30T20:03:29.126958Z",
     "iopub.status.busy": "2023-11-30T20:03:29.126814Z",
     "iopub.status.idle": "2023-11-30T20:03:29.128902Z",
     "shell.execute_reply": "2023-11-30T20:03:29.128629Z",
     "shell.execute_reply.started": "2023-11-30T20:03:29.126948Z"
    }
   },
   "outputs": [],
   "source": [
    "def rnn_loop(char_rnn, batch_ix):\n",
    "    \"\"\"\n",
    "    Computes log P(next_character) for all time-steps in names_ix\n",
    "    :param names_ix: an int32 matrix of shape [batch, time], output of to_matrix(names)\n",
    "    \"\"\"\n",
    "    batch_size, max_length = batch_ix.size()\n",
    "    hid_state = char_rnn.initial_state(batch_size)\n",
    "    logits = []\n",
    "\n",
    "    for x_t in batch_ix.transpose(0,1):\n",
    "        hid_state, logits_next = char_rnn(x_t, hid_state)  # <-- here we call your one-step code\n",
    "        logits.append(logits_next)\n",
    "        \n",
    "    return torch.stack(logits, dim=1)"
   ]
  },
  {
   "cell_type": "code",
   "execution_count": 179,
   "metadata": {
    "execution": {
     "iopub.execute_input": "2023-11-30T20:03:29.131297Z",
     "iopub.status.busy": "2023-11-30T20:03:29.131202Z",
     "iopub.status.idle": "2023-11-30T20:03:29.132998Z",
     "shell.execute_reply": "2023-11-30T20:03:29.132709Z",
     "shell.execute_reply.started": "2023-11-30T20:03:29.131290Z"
    }
   },
   "outputs": [],
   "source": [
    "num_tokens = len(tokens)"
   ]
  },
  {
   "cell_type": "code",
   "execution_count": 180,
   "metadata": {
    "execution": {
     "iopub.execute_input": "2023-11-30T20:03:29.133359Z",
     "iopub.status.busy": "2023-11-30T20:03:29.133289Z",
     "iopub.status.idle": "2023-11-30T20:03:29.137097Z",
     "shell.execute_reply": "2023-11-30T20:03:29.136892Z",
     "shell.execute_reply.started": "2023-11-30T20:03:29.133352Z"
    }
   },
   "outputs": [],
   "source": [
    "batch_ix = one_hot_encoding\n",
    "\n",
    "logit_seq = rnn_loop(char_rnn, batch_ix)"
   ]
  },
  {
   "cell_type": "code",
   "execution_count": 181,
   "metadata": {
    "execution": {
     "iopub.execute_input": "2023-11-30T20:03:29.137487Z",
     "iopub.status.busy": "2023-11-30T20:03:29.137427Z",
     "iopub.status.idle": "2023-11-30T20:03:29.139373Z",
     "shell.execute_reply": "2023-11-30T20:03:29.139137Z",
     "shell.execute_reply.started": "2023-11-30T20:03:29.137480Z"
    }
   },
   "outputs": [],
   "source": [
    "predictions_logits = logit_seq[:, :-1]\n",
    "actual_next_tokens = batch_ix[:, 1:]"
   ]
  },
  {
   "cell_type": "code",
   "execution_count": 182,
   "metadata": {
    "execution": {
     "iopub.execute_input": "2023-11-30T20:03:29.139796Z",
     "iopub.status.busy": "2023-11-30T20:03:29.139728Z",
     "iopub.status.idle": "2023-11-30T20:03:29.141668Z",
     "shell.execute_reply": "2023-11-30T20:03:29.141452Z",
     "shell.execute_reply.started": "2023-11-30T20:03:29.139789Z"
    }
   },
   "outputs": [],
   "source": [
    "loss_func = nn.CrossEntropyLoss()\n",
    "loss2 = loss_func(\n",
    "    predictions_logits.reshape((-1, num_tokens)),\n",
    "    actual_next_tokens.reshape(-1)\n",
    "    )"
   ]
  },
  {
   "cell_type": "code",
   "execution_count": 183,
   "metadata": {
    "execution": {
     "iopub.execute_input": "2023-11-30T20:03:29.142012Z",
     "iopub.status.busy": "2023-11-30T20:03:29.141950Z",
     "iopub.status.idle": "2023-11-30T20:03:29.146023Z",
     "shell.execute_reply": "2023-11-30T20:03:29.145687Z",
     "shell.execute_reply.started": "2023-11-30T20:03:29.142006Z"
    }
   },
   "outputs": [],
   "source": [
    "loss2.backward()"
   ]
  },
  {
   "cell_type": "code",
   "execution_count": 184,
   "metadata": {
    "execution": {
     "iopub.execute_input": "2023-11-30T20:03:29.146688Z",
     "iopub.status.busy": "2023-11-30T20:03:29.146605Z",
     "iopub.status.idle": "2023-11-30T20:03:29.150012Z",
     "shell.execute_reply": "2023-11-30T20:03:29.149731Z",
     "shell.execute_reply.started": "2023-11-30T20:03:29.146680Z"
    }
   },
   "outputs": [],
   "source": [
    "for w in char_rnn.parameters():\n",
    "    assert w.grad is not None and torch.max(torch.abs(w.grad)).data.numpy() != 0, \\\n",
    "        \"Loss is not differentiable w.r.t. a weight with shape %s. Check forward method.\" % (w.size(),)"
   ]
  },
  {
   "cell_type": "code",
   "execution_count": 185,
   "metadata": {
    "execution": {
     "iopub.execute_input": "2023-11-30T20:03:29.150904Z",
     "iopub.status.busy": "2023-11-30T20:03:29.150396Z",
     "iopub.status.idle": "2023-11-30T20:03:29.154834Z",
     "shell.execute_reply": "2023-11-30T20:03:29.154460Z",
     "shell.execute_reply.started": "2023-11-30T20:03:29.150856Z"
    }
   },
   "outputs": [],
   "source": [
    "from IPython.display import clear_output\n",
    "from random import sample\n",
    "\n",
    "char_rnn = CharRNNCell()\n",
    "opt = torch.optim.Adam(char_rnn.parameters())\n",
    "loss_func = nn.CrossEntropyLoss()\n",
    "\n",
    "history = []"
   ]
  },
  {
   "cell_type": "code",
   "execution_count": 193,
   "metadata": {
    "execution": {
     "iopub.execute_input": "2023-11-30T20:04:12.461434Z",
     "iopub.status.busy": "2023-11-30T20:04:12.460950Z",
     "iopub.status.idle": "2023-11-30T20:04:54.236995Z",
     "shell.execute_reply": "2023-11-30T20:04:54.236736Z",
     "shell.execute_reply.started": "2023-11-30T20:04:12.461406Z"
    }
   },
   "outputs": [
    {
     "data": {
      "image/png": "[encoded data removed]",
      "text/plain": [
       "<Figure size 640x480 with 1 Axes>"
      ]
     },
     "metadata": {},
     "output_type": "display_data"
    }
   ],
   "source": [
    "MAX_LENGTH = 16\n",
    "\n",
    "for i in range(10000):\n",
    "    batch_ix = one_hot_encoding\n",
    "    \n",
    "    logits_seq = rnn_loop(char_rnn, batch_ix)\n",
    "    \n",
    "    # compute loss\n",
    "    #<YOUR CODE>\n",
    "    predictions_logits = logits_seq[:, :-1]\n",
    "    actual_next_tokens = batch_ix[:, 1:]\n",
    "\n",
    "    loss = loss_func(\n",
    "    predictions_logits.reshape((-1, num_tokens)),\n",
    "    actual_next_tokens.reshape(-1)\n",
    "    )\n",
    "    loss.backward()\n",
    "    opt.step()\n",
    "    \n",
    "    opt.zero_grad()\n",
    "    \n",
    "    history.append(loss.data.numpy())\n",
    "    if (i+1)%100==0:\n",
    "        clear_output(True)\n",
    "        plt.plot(history,label='loss')\n",
    "        plt.legend()\n",
    "        plt.show()\n",
    "\n",
    "assert np.mean(history[:10]) > np.mean(history[-10:]), \"RNN didn't converge.\""
   ]
  },
  {
   "cell_type": "markdown",
   "metadata": {},
   "source": [
    "Plot the loss function (axis X: number of epochs, axis Y: loss function)."
   ]
  },
  {
   "cell_type": "code",
   "execution_count": 187,
   "metadata": {
    "execution": {
     "iopub.execute_input": "2023-11-30T20:03:33.388129Z",
     "iopub.status.busy": "2023-11-30T20:03:33.388051Z",
     "iopub.status.idle": "2023-11-30T20:03:33.389672Z",
     "shell.execute_reply": "2023-11-30T20:03:33.389411Z",
     "shell.execute_reply.started": "2023-11-30T20:03:33.388122Z"
    }
   },
   "outputs": [],
   "source": [
    "# Your plot code here"
   ]
  },
  {
   "cell_type": "code",
   "execution_count": 188,
   "metadata": {
    "execution": {
     "iopub.execute_input": "2023-11-30T20:03:33.390064Z",
     "iopub.status.busy": "2023-11-30T20:03:33.389996Z",
     "iopub.status.idle": "2023-11-30T20:03:33.393330Z",
     "shell.execute_reply": "2023-11-30T20:03:33.393110Z",
     "shell.execute_reply.started": "2023-11-30T20:03:33.390057Z"
    }
   },
   "outputs": [],
   "source": [
    "def generate_sample(char_rnn, seed_phrase=' Hello', max_length=MAX_LENGTH, temperature=1.0):\n",
    "    '''\n",
    "    ### Disclaimer: this is an example function for text generation.\n",
    "    ### You can either adapt it in your code or create your own function\n",
    "    \n",
    "    The function generates text given a phrase of length at least SEQ_LENGTH.\n",
    "    :param seed_phrase: prefix characters. The RNN is asked to continue the phrase\n",
    "    :param max_length: maximum output length, including seed_phrase\n",
    "    :param temperature: coefficient for sampling.  higher temperature produces more chaotic outputs, \n",
    "        smaller temperature converges to the single most likely output.\n",
    "        \n",
    "    Be careful with the model output. This model waits logits (not probabilities/log-probabilities)\n",
    "    of the next symbol.\n",
    "    '''\n",
    "    \n",
    "    x_sequence = [token_to_id[token] for token in seed_phrase]\n",
    "    x_sequence = torch.tensor([[x_sequence]], dtype=torch.int64)\n",
    "    hid_state = char_rnn.initial_state(batch_size=1)\n",
    "    \n",
    "    #feed the seed phrase, if any\n",
    "    for i in range(len(seed_phrase) - 1):\n",
    "        print(x_sequence[:, -1].shape, hid_state.shape)\n",
    "        out, hid_state = char_rnn(x_sequence[:, i], hid_state)\n",
    "    \n",
    "    #start generating\n",
    "    for _ in range(max_length - len(seed_phrase)):\n",
    "        print(x_sequence.shape, x_sequence, hid_state.shape)\n",
    "        out, hid_state = char_rnn(x_sequence[:, -1], hid_state)\n",
    "        # Be really careful here with the model output\n",
    "        p_next = F.softmax(out / temperature, dim=-1).data.numpy()[0]\n",
    "        \n",
    "        # sample next token and push it back into x_sequence\n",
    "        print(p_next.shape, len(tokens))\n",
    "        next_ix = np.random.choice(len(tokens), p=p_next)\n",
    "        next_ix = torch.tensor([[next_ix]], dtype=torch.int64)\n",
    "        print(x_sequence.shape, next_ix.shape)\n",
    "        x_sequence = torch.cat([x_sequence, next_ix], dim=1)\n",
    "        \n",
    "    return ''.join([tokens[ix] for ix in x_sequence.data.numpy()[0]])"
   ]
  },
  {
   "cell_type": "code",
   "execution_count": 189,
   "metadata": {
    "execution": {
     "iopub.execute_input": "2023-11-30T20:03:33.393808Z",
     "iopub.status.busy": "2023-11-30T20:03:33.393707Z",
     "iopub.status.idle": "2023-11-30T20:03:33.395210Z",
     "shell.execute_reply": "2023-11-30T20:03:33.394890Z",
     "shell.execute_reply.started": "2023-11-30T20:03:33.393801Z"
    }
   },
   "outputs": [],
   "source": [
    "# An example of generated text.\n",
    "# print(generate_text(length=500, temperature=0.2))"
   ]
  },
  {
   "cell_type": "markdown",
   "metadata": {},
   "source": [
    "### More poetic model\n",
    "\n",
    "Let's use LSTM instead of vanilla RNN and compare the results."
   ]
  },
  {
   "cell_type": "markdown",
   "metadata": {},
   "source": [
    "Plot the loss function of the number of epochs. Does the final loss become better?"
   ]
  },
  {
   "cell_type": "code",
   "execution_count": 190,
   "metadata": {
    "execution": {
     "iopub.execute_input": "2023-11-30T20:03:33.395867Z",
     "iopub.status.busy": "2023-11-30T20:03:33.395773Z",
     "iopub.status.idle": "2023-11-30T20:03:33.397526Z",
     "shell.execute_reply": "2023-11-30T20:03:33.397273Z",
     "shell.execute_reply.started": "2023-11-30T20:03:33.395859Z"
    }
   },
   "outputs": [],
   "source": [
    "# Your beautiful code here"
   ]
  },
  {
   "cell_type": "markdown",
   "metadata": {},
   "source": [
    "Generate text using the trained net with different `temperature` parameter: `[0.1, 0.2, 0.5, 1.0, 2.0]`.\n",
    "\n",
    "Evaluate the results visually, try to interpret them."
   ]
  },
  {
   "cell_type": "code",
   "execution_count": 191,
   "metadata": {
    "execution": {
     "iopub.execute_input": "2023-11-30T20:03:33.397900Z",
     "iopub.status.busy": "2023-11-30T20:03:33.397815Z",
     "iopub.status.idle": "2023-11-30T20:03:33.399382Z",
     "shell.execute_reply": "2023-11-30T20:03:33.399161Z",
     "shell.execute_reply.started": "2023-11-30T20:03:33.397894Z"
    }
   },
   "outputs": [],
   "source": [
    "# Text generation with different temperature values here"
   ]
  },
  {
   "cell_type": "markdown",
   "metadata": {},
   "source": [
    "### Saving and loading models"
   ]
  },
  {
   "cell_type": "markdown",
   "metadata": {},
   "source": [
    "Save the model to the disk, then load it and generate text. Examples are available [here](https://pytorch.org/tutorials/beginner/saving_loading_models.html])."
   ]
  },
  {
   "cell_type": "code",
   "execution_count": 192,
   "metadata": {
    "execution": {
     "iopub.execute_input": "2023-11-30T20:03:33.399842Z",
     "iopub.status.busy": "2023-11-30T20:03:33.399734Z",
     "iopub.status.idle": "2023-11-30T20:03:33.401212Z",
     "shell.execute_reply": "2023-11-30T20:03:33.401016Z",
     "shell.execute_reply.started": "2023-11-30T20:03:33.399834Z"
    }
   },
   "outputs": [],
   "source": [
    "# Saving and loading code here"
   ]
  },
  {
   "cell_type": "markdown",
   "metadata": {},
   "source": [
    "### References\n",
    "1. <a href='http://karpathy.github.io/2015/05/21/rnn-effectiveness/'> Andrew Karpathy blog post about RNN. </a> \n",
    "There are several examples of genration: Shakespeare texts, Latex formulas, Linux Sourse Code and children names.\n",
    "2. <a href='https://github.com/karpathy/char-rnn'> Repo with char-rnn code </a>\n",
    "3. Cool repo with PyTorch examples: [link](https://github.com/spro/practical-pytorch`)"
   ]
  }
 ],
 "metadata": {
  "anaconda-cloud": {},
  "kernelspec": {
   "display_name": "Python 3 (ipykernel)",
   "language": "python",
   "name": "python3"
  },
  "language_info": {
   "codemirror_mode": {
    "name": "ipython",
    "version": 3
   },
   "file_extension": ".py",
   "mimetype": "text/x-python",
   "name": "python",
   "nbconvert_exporter": "python",
   "pygments_lexer": "ipython3",
   "version": "3.11.5"
  }
 },
 "nbformat": 4,
 "nbformat_minor": 4
}
